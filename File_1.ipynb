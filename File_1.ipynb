{
  "nbformat": 4,
  "nbformat_minor": 0,
  "metadata": {
    "colab": {
      "name": "File_1.ipynb",
      "provenance": [],
      "collapsed_sections": [],
      "authorship_tag": "ABX9TyOEtx8iiC64dF9aiA6h0MRu",
      "include_colab_link": true
    },
    "kernelspec": {
      "name": "python3",
      "display_name": "Python 3"
    }
  },
  "cells": [
    {
      "cell_type": "markdown",
      "metadata": {
        "id": "view-in-github",
        "colab_type": "text"
      },
      "source": [
        "<a href=\"https://colab.research.google.com/github/MrDarkTesla/QCL_2021/blob/main/File_1.ipynb\" target=\"_parent\"><img src=\"https://colab.research.google.com/assets/colab-badge.svg\" alt=\"Open In Colab\"/></a>"
      ]
    },
    {
      "cell_type": "code",
      "metadata": {
        "id": "gccSisN0neF7",
        "colab": {
          "base_uri": "https://localhost:8080/"
        },
        "outputId": "9bb7dd6f-822b-4168-ecb8-bed3d4d63463"
      },
      "source": [
        "! pip install qiskit"
      ],
      "execution_count": null,
      "outputs": [
        {
          "output_type": "stream",
          "text": [
            "Collecting qiskit\n",
            "  Downloading https://files.pythonhosted.org/packages/8b/b6/9e38d181beb9dd07748cb36eb37ba5dfd43c34e7e1cab0afcd15e949c306/qiskit-0.23.2.tar.gz\n",
            "Collecting qiskit-terra==0.16.1\n",
            "\u001b[?25l  Downloading https://files.pythonhosted.org/packages/66/91/813c0b986fa953d09ff58c74a7948bf9d52c64497319746bb4a1bb0e7f3a/qiskit_terra-0.16.1-cp36-cp36m-manylinux2010_x86_64.whl (8.5MB)\n",
            "\u001b[K     |████████████████████████████████| 8.5MB 7.4MB/s \n",
            "\u001b[?25hCollecting qiskit-aer==0.7.2\n",
            "\u001b[?25l  Downloading https://files.pythonhosted.org/packages/9b/5a/caa85b889de9aa4250fff68e76ad82fd2916f63b1eb3cced1c5419efe215/qiskit_aer-0.7.2-cp36-cp36m-manylinux2010_x86_64.whl (17.6MB)\n",
            "\u001b[K     |████████████████████████████████| 17.6MB 259kB/s \n",
            "\u001b[?25hCollecting qiskit-ibmq-provider==0.11.1\n",
            "\u001b[?25l  Downloading https://files.pythonhosted.org/packages/32/b9/f99bec4fdc4dec234d8a85a8da378750441a203c614be35353f5e8738316/qiskit_ibmq_provider-0.11.1-py3-none-any.whl (195kB)\n",
            "\u001b[K     |████████████████████████████████| 204kB 42.5MB/s \n",
            "\u001b[?25hCollecting qiskit-ignis==0.5.1\n",
            "\u001b[?25l  Downloading https://files.pythonhosted.org/packages/f7/42/5e151db90ebeb0d08d0f799f72c1922cded76065b03c4ca4fc11ec0085ce/qiskit_ignis-0.5.1-py3-none-any.whl (204kB)\n",
            "\u001b[K     |████████████████████████████████| 204kB 61.0MB/s \n",
            "\u001b[?25hCollecting qiskit-aqua==0.8.1\n",
            "\u001b[?25l  Downloading https://files.pythonhosted.org/packages/4d/5f/41abad4b0375effe79a51a20130da6c18bb2101c257366aab0f300197e53/qiskit_aqua-0.8.1-py3-none-any.whl (2.1MB)\n",
            "\u001b[K     |████████████████████████████████| 2.1MB 32.1MB/s \n",
            "\u001b[?25hCollecting python-constraint>=1.4\n",
            "  Downloading https://files.pythonhosted.org/packages/37/8b/5f1bc2734ca611943e1d6733ee244238679f6410a10cd45ede55a61a8402/python-constraint-1.4.0.tar.bz2\n",
            "Requirement already satisfied: python-dateutil>=2.8.0 in /usr/local/lib/python3.6/dist-packages (from qiskit-terra==0.16.1->qiskit) (2.8.1)\n",
            "Requirement already satisfied: jsonschema>=2.6 in /usr/local/lib/python3.6/dist-packages (from qiskit-terra==0.16.1->qiskit) (2.6.0)\n",
            "Requirement already satisfied: numpy>=1.17 in /usr/local/lib/python3.6/dist-packages (from qiskit-terra==0.16.1->qiskit) (1.19.5)\n",
            "Collecting contextvars>=2.4; python_version < \"3.7\"\n",
            "  Downloading https://files.pythonhosted.org/packages/83/96/55b82d9f13763be9d672622e1b8106c85acb83edd7cc2fa5bc67cd9877e9/contextvars-2.4.tar.gz\n",
            "Collecting fastjsonschema>=2.10\n",
            "  Downloading https://files.pythonhosted.org/packages/c7/47/e860ab658dc2da844e6fdb76b12f6b3e14fbcb62fdd04f3e1c572bca20e1/fastjsonschema-2.14.5-py3-none-any.whl\n",
            "Collecting retworkx>=0.5.0\n",
            "\u001b[?25l  Downloading https://files.pythonhosted.org/packages/b7/21/5d4498cedb23927a31173176975e2162e0d6a2b80846ef254dd5500e10da/retworkx-0.7.2-cp36-cp36m-manylinux2010_x86_64.whl (1.3MB)\n",
            "\u001b[K     |████████████████████████████████| 1.3MB 43.2MB/s \n",
            "\u001b[?25hRequirement already satisfied: psutil>=5 in /usr/local/lib/python3.6/dist-packages (from qiskit-terra==0.16.1->qiskit) (5.4.8)\n",
            "Collecting sympy>=1.3\n",
            "\u001b[?25l  Downloading https://files.pythonhosted.org/packages/ff/69/b16fc81b939d3efdd0b552f2e3e54f7fa1423d0c320cced2e69e675dde26/sympy-1.7.1-py3-none-any.whl (5.9MB)\n",
            "\u001b[K     |████████████████████████████████| 5.9MB 39.3MB/s \n",
            "\u001b[?25hRequirement already satisfied: dill>=0.3 in /usr/local/lib/python3.6/dist-packages (from qiskit-terra==0.16.1->qiskit) (0.3.3)\n",
            "Requirement already satisfied: networkx>=2.2 in /usr/local/lib/python3.6/dist-packages (from qiskit-terra==0.16.1->qiskit) (2.5)\n",
            "Collecting ply>=3.10\n",
            "\u001b[?25l  Downloading https://files.pythonhosted.org/packages/a3/58/35da89ee790598a0700ea49b2a66594140f44dec458c07e8e3d4979137fc/ply-3.11-py2.py3-none-any.whl (49kB)\n",
            "\u001b[K     |████████████████████████████████| 51kB 7.1MB/s \n",
            "\u001b[?25hRequirement already satisfied: scipy>=1.4 in /usr/local/lib/python3.6/dist-packages (from qiskit-terra==0.16.1->qiskit) (1.4.1)\n",
            "Requirement already satisfied: cython>=0.27.1 in /usr/local/lib/python3.6/dist-packages (from qiskit-aer==0.7.2->qiskit) (0.29.21)\n",
            "Collecting pybind11>=2.4\n",
            "\u001b[?25l  Downloading https://files.pythonhosted.org/packages/00/84/fc9dc13ee536ba5e6b8fd10ce368fea5b738fe394c3b296cde7c9b144a92/pybind11-2.6.1-py2.py3-none-any.whl (188kB)\n",
            "\u001b[K     |████████████████████████████████| 194kB 55.0MB/s \n",
            "\u001b[?25hRequirement already satisfied: nest-asyncio!=1.1.0,>=1.0.0 in /usr/local/lib/python3.6/dist-packages (from qiskit-ibmq-provider==0.11.1->qiskit) (1.4.3)\n",
            "Collecting websockets>=8\n",
            "\u001b[?25l  Downloading https://files.pythonhosted.org/packages/bb/d9/856af84843912e2853b1b6e898ac8b802989fcf9ecf8e8445a1da263bf3b/websockets-8.1-cp36-cp36m-manylinux2010_x86_64.whl (78kB)\n",
            "\u001b[K     |████████████████████████████████| 81kB 9.6MB/s \n",
            "\u001b[?25hRequirement already satisfied: urllib3>=1.21.1 in /usr/local/lib/python3.6/dist-packages (from qiskit-ibmq-provider==0.11.1->qiskit) (1.24.3)\n",
            "Collecting requests-ntlm>=1.1.0\n",
            "  Downloading https://files.pythonhosted.org/packages/03/4b/8b9a1afde8072c4d5710d9fa91433d504325821b038e00237dc8d6d833dc/requests_ntlm-1.1.0-py2.py3-none-any.whl\n",
            "Requirement already satisfied: requests>=2.19 in /usr/local/lib/python3.6/dist-packages (from qiskit-ibmq-provider==0.11.1->qiskit) (2.23.0)\n",
            "Requirement already satisfied: setuptools>=40.1.0 in /usr/local/lib/python3.6/dist-packages (from qiskit-ignis==0.5.1->qiskit) (51.1.1)\n",
            "Requirement already satisfied: scikit-learn>=0.17 in /usr/local/lib/python3.6/dist-packages (from qiskit-ignis==0.5.1->qiskit) (0.22.2.post1)\n",
            "Requirement already satisfied: h5py in /usr/local/lib/python3.6/dist-packages (from qiskit-aqua==0.8.1->qiskit) (2.10.0)\n",
            "Requirement already satisfied: fastdtw in /usr/local/lib/python3.6/dist-packages (from qiskit-aqua==0.8.1->qiskit) (0.3.4)\n",
            "Collecting dlx\n",
            "  Downloading https://files.pythonhosted.org/packages/54/c0/b8fb5bb727e983b6f5251433ef941b48f38c65bb0bd6ec509e9185bcd406/dlx-1.0.4.tar.gz\n",
            "Requirement already satisfied: pandas in /usr/local/lib/python3.6/dist-packages (from qiskit-aqua==0.8.1->qiskit) (1.1.5)\n",
            "Collecting quandl\n",
            "  Downloading https://files.pythonhosted.org/packages/c2/58/9f0e69d836045e3865d263e9ed49f42b23a58526fdabb30f74c430baee3f/Quandl-3.6.0-py2.py3-none-any.whl\n",
            "Collecting docplex\n",
            "\u001b[?25l  Downloading https://files.pythonhosted.org/packages/6e/53/7d85a2e2b8559d3dc08ffde370c0f57189ffd9e35493acf1f719f6ac5e0d/docplex-2.19.202.tar.gz (607kB)\n",
            "\u001b[K     |████████████████████████████████| 614kB 32.7MB/s \n",
            "\u001b[?25hCollecting yfinance\n",
            "  Downloading https://files.pythonhosted.org/packages/7a/e8/b9d7104d3a4bf39924799067592d9e59119fcfc900a425a12e80a3123ec8/yfinance-0.1.55.tar.gz\n",
            "Requirement already satisfied: six>=1.5 in /usr/local/lib/python3.6/dist-packages (from python-dateutil>=2.8.0->qiskit-terra==0.16.1->qiskit) (1.15.0)\n",
            "Collecting immutables>=0.9\n",
            "\u001b[?25l  Downloading https://files.pythonhosted.org/packages/99/e0/ea6fd4697120327d26773b5a84853f897a68e33d3f9376b00a8ff96e4f63/immutables-0.14-cp36-cp36m-manylinux1_x86_64.whl (98kB)\n",
            "\u001b[K     |████████████████████████████████| 102kB 10.9MB/s \n",
            "\u001b[?25hRequirement already satisfied: mpmath>=0.19 in /usr/local/lib/python3.6/dist-packages (from sympy>=1.3->qiskit-terra==0.16.1->qiskit) (1.1.0)\n",
            "Requirement already satisfied: decorator>=4.3.0 in /usr/local/lib/python3.6/dist-packages (from networkx>=2.2->qiskit-terra==0.16.1->qiskit) (4.4.2)\n",
            "Collecting ntlm-auth>=1.0.2\n",
            "  Downloading https://files.pythonhosted.org/packages/ff/84/97c550164b54942b0e908c31ef09d9469f3ba4cd7332a671e2125732f63b/ntlm_auth-1.5.0-py2.py3-none-any.whl\n",
            "Collecting cryptography>=1.3\n",
            "\u001b[?25l  Downloading https://files.pythonhosted.org/packages/c9/de/7054df0620b5411ba45480f0261e1fb66a53f3db31b28e3aa52c026e72d9/cryptography-3.3.1-cp36-abi3-manylinux2010_x86_64.whl (2.6MB)\n",
            "\u001b[K     |████████████████████████████████| 2.6MB 33.8MB/s \n",
            "\u001b[?25hRequirement already satisfied: idna<3,>=2.5 in /usr/local/lib/python3.6/dist-packages (from requests>=2.19->qiskit-ibmq-provider==0.11.1->qiskit) (2.10)\n",
            "Requirement already satisfied: chardet<4,>=3.0.2 in /usr/local/lib/python3.6/dist-packages (from requests>=2.19->qiskit-ibmq-provider==0.11.1->qiskit) (3.0.4)\n",
            "Requirement already satisfied: certifi>=2017.4.17 in /usr/local/lib/python3.6/dist-packages (from requests>=2.19->qiskit-ibmq-provider==0.11.1->qiskit) (2020.12.5)\n",
            "Requirement already satisfied: joblib>=0.11 in /usr/local/lib/python3.6/dist-packages (from scikit-learn>=0.17->qiskit-ignis==0.5.1->qiskit) (1.0.0)\n",
            "Requirement already satisfied: pytz>=2017.2 in /usr/local/lib/python3.6/dist-packages (from pandas->qiskit-aqua==0.8.1->qiskit) (2018.9)\n",
            "Collecting inflection>=0.3.1\n",
            "  Downloading https://files.pythonhosted.org/packages/59/91/aa6bde563e0085a02a435aa99b49ef75b0a4b062635e606dab23ce18d720/inflection-0.5.1-py2.py3-none-any.whl\n",
            "Requirement already satisfied: more-itertools in /usr/local/lib/python3.6/dist-packages (from quandl->qiskit-aqua==0.8.1->qiskit) (8.6.0)\n",
            "Requirement already satisfied: multitasking>=0.0.7 in /usr/local/lib/python3.6/dist-packages (from yfinance->qiskit-aqua==0.8.1->qiskit) (0.0.9)\n",
            "Collecting lxml>=4.5.1\n",
            "\u001b[?25l  Downloading https://files.pythonhosted.org/packages/bd/78/56a7c88a57d0d14945472535d0df9fb4bbad7d34ede658ec7961635c790e/lxml-4.6.2-cp36-cp36m-manylinux1_x86_64.whl (5.5MB)\n",
            "\u001b[K     |████████████████████████████████| 5.5MB 46.8MB/s \n",
            "\u001b[?25hRequirement already satisfied: cffi>=1.12 in /usr/local/lib/python3.6/dist-packages (from cryptography>=1.3->requests-ntlm>=1.1.0->qiskit-ibmq-provider==0.11.1->qiskit) (1.14.4)\n",
            "Requirement already satisfied: pycparser in /usr/local/lib/python3.6/dist-packages (from cffi>=1.12->cryptography>=1.3->requests-ntlm>=1.1.0->qiskit-ibmq-provider==0.11.1->qiskit) (2.20)\n",
            "Building wheels for collected packages: qiskit, python-constraint, contextvars, dlx, docplex, yfinance\n",
            "  Building wheel for qiskit (setup.py) ... \u001b[?25l\u001b[?25hdone\n",
            "  Created wheel for qiskit: filename=qiskit-0.23.2-cp36-none-any.whl size=2876 sha256=20edd7a911eee2145a17d7ba51930bea3e5048132831aebee98bdbcfd0b9e890\n",
            "  Stored in directory: /root/.cache/pip/wheels/c2/62/3e/d5aeec3b19ba0e2c0c10292747d0bd4489b34e3f3385a908d0\n",
            "  Building wheel for python-constraint (setup.py) ... \u001b[?25l\u001b[?25hdone\n",
            "  Created wheel for python-constraint: filename=python_constraint-1.4.0-py2.py3-none-any.whl size=24079 sha256=9adb1a74d78829d6c178f07ef3564fc16313708678b726561433dca65ebadf30\n",
            "  Stored in directory: /root/.cache/pip/wheels/34/31/15/7b070b25d0a549d20ce2e9fe6d727471c2c61ef904720fd40c\n",
            "  Building wheel for contextvars (setup.py) ... \u001b[?25l\u001b[?25hdone\n",
            "  Created wheel for contextvars: filename=contextvars-2.4-cp36-none-any.whl size=7667 sha256=46e62e98f108d764a5b33f4adc1691888376c86941ec5fb068360b149a365a0f\n",
            "  Stored in directory: /root/.cache/pip/wheels/a5/7d/68/1ebae2668bda2228686e3c1cf16f2c2384cea6e9334ad5f6de\n",
            "  Building wheel for dlx (setup.py) ... \u001b[?25l\u001b[?25hdone\n",
            "  Created wheel for dlx: filename=dlx-1.0.4-cp36-none-any.whl size=5711 sha256=cc1a5236bba6242e73ade6fd837b768a30fb5f12c43d1b53823f7bbe2ed19165\n",
            "  Stored in directory: /root/.cache/pip/wheels/bb/ba/15/fdd0deb104df3254912998150ba9245668db06b00af5912d1a\n",
            "  Building wheel for docplex (setup.py) ... \u001b[?25l\u001b[?25hdone\n",
            "  Created wheel for docplex: filename=docplex-2.19.202-cp36-none-any.whl size=670938 sha256=16f43067d29d0a9a95ca4dd9160854e8a41d062d1e7e62672de02e6666deb6c2\n",
            "  Stored in directory: /root/.cache/pip/wheels/33/bb/64/5dd51006e730eb1227b8033d1f9e2246b806d9985a70c90d99\n",
            "  Building wheel for yfinance (setup.py) ... \u001b[?25l\u001b[?25hdone\n",
            "  Created wheel for yfinance: filename=yfinance-0.1.55-py2.py3-none-any.whl size=22616 sha256=af07060d647bc68c7bf4bb3541cee38d495270c28a0307669fe390b7112cf733\n",
            "  Stored in directory: /root/.cache/pip/wheels/04/98/cc/2702a4242d60bdc14f48b4557c427ded1fe92aedf257d4565c\n",
            "Successfully built qiskit python-constraint contextvars dlx docplex yfinance\n",
            "Installing collected packages: python-constraint, immutables, contextvars, fastjsonschema, retworkx, sympy, ply, qiskit-terra, pybind11, qiskit-aer, websockets, ntlm-auth, cryptography, requests-ntlm, qiskit-ibmq-provider, qiskit-ignis, dlx, inflection, quandl, docplex, lxml, yfinance, qiskit-aqua, qiskit\n",
            "  Found existing installation: sympy 1.1.1\n",
            "    Uninstalling sympy-1.1.1:\n",
            "      Successfully uninstalled sympy-1.1.1\n",
            "  Found existing installation: lxml 4.2.6\n",
            "    Uninstalling lxml-4.2.6:\n",
            "      Successfully uninstalled lxml-4.2.6\n",
            "Successfully installed contextvars-2.4 cryptography-3.3.1 dlx-1.0.4 docplex-2.19.202 fastjsonschema-2.14.5 immutables-0.14 inflection-0.5.1 lxml-4.6.2 ntlm-auth-1.5.0 ply-3.11 pybind11-2.6.1 python-constraint-1.4.0 qiskit-0.23.2 qiskit-aer-0.7.2 qiskit-aqua-0.8.1 qiskit-ibmq-provider-0.11.1 qiskit-ignis-0.5.1 qiskit-terra-0.16.1 quandl-3.6.0 requests-ntlm-1.1.0 retworkx-0.7.2 sympy-1.7.1 websockets-8.1 yfinance-0.1.55\n"
          ],
          "name": "stdout"
        }
      ]
    },
    {
      "cell_type": "code",
      "metadata": {
        "id": "mgLzMwjibu_6"
      },
      "source": [
        "# Initialization\r\n",
        "import matplotlib.pyplot as plt\r\n",
        "\r\n",
        "# Importing Qiskit\r\n",
        "from qiskit import IBMQ, BasicAer, Aer\r\n",
        "from qiskit import QuantumCircuit, ClassicalRegister, QuantumRegister, execute\r\n",
        "\r\n",
        "# Import basic plot tools\r\n",
        "from qiskit.tools.visualization import plot_histogram"
      ],
      "execution_count": null,
      "outputs": []
    },
    {
      "cell_type": "code",
      "metadata": {
        "id": "GvJfWpqBln9B"
      },
      "source": [
        "in_reg = QuantumRegister(2, \"in\")\r\n",
        "out_reg = QuantumRegister(2, \"out\")\r\n",
        "cr = ClassicalRegister(4)"
      ],
      "execution_count": null,
      "outputs": []
    },
    {
      "cell_type": "code",
      "metadata": {
        "colab": {
          "base_uri": "https://localhost:8080/",
          "height": 182
        },
        "id": "zOcYW4eClGLI",
        "outputId": "d70fcfe0-a7be-4a76-a937-1ab2d1f49e85"
      },
      "source": [
        "qc = QuantumCircuit(in_reg, out_reg, cr)\r\n",
        "\r\n",
        "qc.h(in_reg[0])\r\n",
        "qc.h(in_reg[1])\r\n",
        "\r\n",
        "\r\n",
        "qc.ccx(in_reg[0], in_reg[1], out_reg[1])\r\n",
        "qc.cx(in_reg[0], out_reg[0])\r\n",
        "qc.cx(in_reg[1], out_reg[0])\r\n",
        "\r\n",
        "qc.barrier()\r\n",
        "\r\n",
        "qc.measure(in_reg, cr[:2])\r\n",
        "qc.measure(out_reg, cr[2:])\r\n",
        "qc.draw()"
      ],
      "execution_count": null,
      "outputs": [
        {
          "output_type": "execute_result",
          "data": {
            "text/html": [
              "<pre style=\"word-wrap: normal;white-space: pre;background: #fff0;line-height: 1.1;font-family: &quot;Courier New&quot;,Courier,monospace\">       ┌───┐                ░ ┌─┐         \n",
              " in_0: ┤ H ├──■────■────────░─┤M├─────────\n",
              "       ├───┤  │    │        ░ └╥┘┌─┐      \n",
              " in_1: ┤ H ├──■────┼────■───░──╫─┤M├──────\n",
              "       └───┘  │  ┌─┴─┐┌─┴─┐ ░  ║ └╥┘┌─┐   \n",
              "out_0: ───────┼──┤ X ├┤ X ├─░──╫──╫─┤M├───\n",
              "            ┌─┴─┐└───┘└───┘ ░  ║  ║ └╥┘┌─┐\n",
              "out_1: ─────┤ X ├───────────░──╫──╫──╫─┤M├\n",
              "            └───┘           ░  ║  ║  ║ └╥┘\n",
              " c4: 4/════════════════════════╩══╩══╩══╩═\n",
              "                               0  1  2  3 </pre>"
            ],
            "text/plain": [
              "       ┌───┐                ░ ┌─┐         \n",
              " in_0: ┤ H ├──■────■────────░─┤M├─────────\n",
              "       ├───┤  │    │        ░ └╥┘┌─┐      \n",
              " in_1: ┤ H ├──■────┼────■───░──╫─┤M├──────\n",
              "       └───┘  │  ┌─┴─┐┌─┴─┐ ░  ║ └╥┘┌─┐   \n",
              "out_0: ───────┼──┤ X ├┤ X ├─░──╫──╫─┤M├───\n",
              "            ┌─┴─┐└───┘└───┘ ░  ║  ║ └╥┘┌─┐\n",
              "out_1: ─────┤ X ├───────────░──╫──╫──╫─┤M├\n",
              "            └───┘           ░  ║  ║  ║ └╥┘\n",
              " c4: 4/════════════════════════╩══╩══╩══╩═\n",
              "                               0  1  2  3 "
            ]
          },
          "metadata": {
            "tags": []
          },
          "execution_count": 21
        }
      ]
    },
    {
      "cell_type": "code",
      "metadata": {
        "colab": {
          "base_uri": "https://localhost:8080/"
        },
        "id": "6fMaDcEXmKiU",
        "outputId": "eafc1a76-834c-4865-8ba2-ceb67215c040"
      },
      "source": [
        "backend = Aer.get_backend('qasm_simulator')\r\n",
        "job = execute(qc, backend, shots=1000)\r\n",
        "result = job.result()\r\n",
        "count =result.get_counts()\r\n",
        "print(count)"
      ],
      "execution_count": null,
      "outputs": [
        {
          "output_type": "stream",
          "text": [
            "{'0000': 277, '0101': 256, '0110': 219, '1011': 248}\n"
          ],
          "name": "stdout"
        }
      ]
    },
    {
      "cell_type": "code",
      "metadata": {
        "id": "ZKnnF7kXu-io"
      },
      "source": [
        "def diffuser(qc, address):\r\n",
        "  qc.h(address)\r\n",
        "  qc.x(address)\r\n",
        "\r\n",
        "  qc.h(address[-1])\r\n",
        "  qc.mct(address[:-1], address[-1])\r\n",
        "  qc.h(address[-1])\r\n",
        "  qc.x(address)\r\n",
        "  qc.h(address)\r\n",
        "  "
      ],
      "execution_count": null,
      "outputs": []
    },
    {
      "cell_type": "code",
      "metadata": {
        "id": "4M_q1V6UtxLC"
      },
      "source": [
        "def oracle_funk(qc, address, oracle):\r\n",
        "  \r\n",
        "  ans = \"101\"\r\n",
        "\r\n",
        "  qc.x(oracle)\r\n",
        "  qc.h(oracle)\r\n",
        "  for i, l in enumerate(ans):\r\n",
        "    if l == \"0\":\r\n",
        "      qc.x(address[i])\r\n",
        "  qc.mct(address, oracle[0])\r\n",
        "  for i, l in enumerate(ans):\r\n",
        "    if l == \"0\":\r\n",
        "      qc.x(address[i])\r\n",
        "  qc.h(oracle)\r\n",
        "  qc.x(oracle)\r\n",
        "  \r\n"
      ],
      "execution_count": null,
      "outputs": []
    },
    {
      "cell_type": "code",
      "metadata": {
        "id": "7mLYwnHLo6wQ"
      },
      "source": [
        "address = QuantumRegister(6, \"address\")\r\n",
        "oracle = QuantumRegister(1, \"oracle\")\r\n",
        "cr = ClassicalRegister(6)"
      ],
      "execution_count": null,
      "outputs": []
    },
    {
      "cell_type": "code",
      "metadata": {
        "id": "VP3qCf-asb_n",
        "colab": {
          "base_uri": "https://localhost:8080/",
          "height": 197
        },
        "outputId": "61d22be7-a4f4-4cf0-ecf9-243d57cabcfe"
      },
      "source": [
        "res = []\r\n",
        "for n_iter in range(8):\r\n",
        "  qc = QuantumCircuit(address, oracle, cr)\r\n",
        "  qc.h(address)\r\n",
        "  for i in range(n_iter):\r\n",
        "    oracle_funk(qc, address, oracle)\r\n",
        "    qc.barrier()\r\n",
        "    diffuser(qc, address)\r\n",
        "  qc.measure(address, cr)\r\n",
        "\r\n",
        "  backend = Aer.get_backend('qasm_simulator')\r\n",
        "  job = execute(qc, backend, shots=1000)\r\n",
        "  result = job.result()\r\n",
        "  count = result.get_counts()\r\n",
        "  plot_histogram(count)\r\n",
        "  res.append(count[\"000001\"] / 1000)"
      ],
      "execution_count": null,
      "outputs": [
        {
          "output_type": "error",
          "ename": "KeyError",
          "evalue": "ignored",
          "traceback": [
            "\u001b[0;31m---------------------------------------------------------------------------\u001b[0m",
            "\u001b[0;31mKeyError\u001b[0m                                  Traceback (most recent call last)",
            "\u001b[0;32m<ipython-input-27-a2ecdcc9f35c>\u001b[0m in \u001b[0;36m<module>\u001b[0;34m()\u001b[0m\n\u001b[1;32m     14\u001b[0m   \u001b[0mcount\u001b[0m \u001b[0;34m=\u001b[0m \u001b[0mresult\u001b[0m\u001b[0;34m.\u001b[0m\u001b[0mget_counts\u001b[0m\u001b[0;34m(\u001b[0m\u001b[0;34m)\u001b[0m\u001b[0;34m\u001b[0m\u001b[0;34m\u001b[0m\u001b[0m\n\u001b[1;32m     15\u001b[0m   \u001b[0mplot_histogram\u001b[0m\u001b[0;34m(\u001b[0m\u001b[0mcount\u001b[0m\u001b[0;34m)\u001b[0m\u001b[0;34m\u001b[0m\u001b[0;34m\u001b[0m\u001b[0m\n\u001b[0;32m---> 16\u001b[0;31m   \u001b[0mres\u001b[0m\u001b[0;34m.\u001b[0m\u001b[0mappend\u001b[0m\u001b[0;34m(\u001b[0m\u001b[0mcount\u001b[0m\u001b[0;34m[\u001b[0m\u001b[0;34m\"000001\"\u001b[0m\u001b[0;34m]\u001b[0m \u001b[0;34m/\u001b[0m \u001b[0;36m1000\u001b[0m\u001b[0;34m)\u001b[0m\u001b[0;34m\u001b[0m\u001b[0;34m\u001b[0m\u001b[0m\n\u001b[0m",
            "\u001b[0;31mKeyError\u001b[0m: '000001'"
          ]
        }
      ]
    },
    {
      "cell_type": "code",
      "metadata": {
        "colab": {
          "base_uri": "https://localhost:8080/",
          "height": 282
        },
        "id": "nx7biRArtR_I",
        "outputId": "c4ba7642-fc5b-4a0d-d4f3-676209be40f2"
      },
      "source": [
        "plt.plot(res)"
      ],
      "execution_count": null,
      "outputs": [
        {
          "output_type": "execute_result",
          "data": {
            "text/plain": [
              "[<matplotlib.lines.Line2D at 0x7fc3fecb2588>]"
            ]
          },
          "metadata": {
            "tags": []
          },
          "execution_count": 28
        },
        {
          "output_type": "display_data",
          "data": {
            "image/png": "[encoded data removed]",
            "text/plain": [
              "<Figure size 432x288 with 1 Axes>"
            ]
          },
          "metadata": {
            "tags": [],
            "needs_background": "light"
          }
        }
      ]
    },
    {
      "cell_type": "markdown",
      "metadata": {
        "id": "N1_5hFfQ0nlW"
      },
      "source": [
        "QRAM"
      ]
    },
    {
      "cell_type": "code",
      "metadata": {
        "id": "7HtuQu-o49Qq"
      },
      "source": [
        "def my_bin(el, n):\r\n",
        "    return \"0\" * (n - len(bin(el)[2:])) + bin(el)[2:] "
      ],
      "execution_count": null,
      "outputs": []
    },
    {
      "cell_type": "code",
      "metadata": {
        "id": "IRPfif2t1aa8"
      },
      "source": [
        "def QRAM(qc, address, database, array):\r\n",
        "  for j, el in enumerate(array):\r\n",
        "    for i, l in enumerate(my_bin(j, 2)):\r\n",
        "      if l == \"0\":\r\n",
        "        qc.x(address[i])\r\n",
        "    for i, l in enumerate(my_bin(el, 3)):\r\n",
        "      if l == \"1\":\r\n",
        "        qc.mct(address, database[i])\r\n",
        "\r\n",
        "    for i, l in enumerate(my_bin(j, 2)):\r\n",
        "      if l == \"0\":\r\n",
        "        qc.x(address[i])\r\n",
        "    qc.barrier()"
      ],
      "execution_count": null,
      "outputs": []
    },
    {
      "cell_type": "code",
      "metadata": {
        "id": "iHlVc81M0ZR1"
      },
      "source": [
        "address = QuantumRegister(2, \"address\")\r\n",
        "database = QuantumRegister(3, \"database\")\r\n",
        "oracle = QuantumRegister(1, \"oracle\")\r\n",
        "cr = ClassicalRegister(2)"
      ],
      "execution_count": null,
      "outputs": []
    },
    {
      "cell_type": "code",
      "metadata": {
        "colab": {
          "base_uri": "https://localhost:8080/"
        },
        "id": "00Zu2H666efY",
        "outputId": "044e3b34-dcbc-4ca0-c1f1-5f21f6840a95"
      },
      "source": [
        "qc = QuantumCircuit(address, database, oracle, cr)\r\n",
        "qc.h(address)\r\n",
        "for i in range(1):\r\n",
        "  QRAM(qc, address, database, [0, 5, 7, 1])\r\n",
        "  oracle_funk(qc, database, oracle)\r\n",
        "  QRAM(qc, address, database, [0, 5, 7, 1])\r\n",
        "  diffuser(qc, address)\r\n",
        "qc.measure(address, cr)\r\n"
      ],
      "execution_count": null,
      "outputs": [
        {
          "output_type": "execute_result",
          "data": {
            "text/plain": [
              "<qiskit.circuit.instructionset.InstructionSet at 0x7fc3ffda2da0>"
            ]
          },
          "metadata": {
            "tags": []
          },
          "execution_count": 15
        }
      ]
    },
    {
      "cell_type": "code",
      "metadata": {
        "colab": {
          "base_uri": "https://localhost:8080/"
        },
        "id": "MaLoHfNv7MvQ",
        "outputId": "de2d79b8-2702-4b32-d4ee-e859dfa25c63"
      },
      "source": [
        "backend = Aer.get_backend('qasm_simulator')\r\n",
        "job = execute(qc, backend, shots=1000)\r\n",
        "result = job.result()\r\n",
        "count = result.get_counts()\r\n",
        "count"
      ],
      "execution_count": null,
      "outputs": [
        {
          "output_type": "execute_result",
          "data": {
            "text/plain": [
              "{'10': 1000}"
            ]
          },
          "metadata": {
            "tags": []
          },
          "execution_count": 16
        }
      ]
    },
    {
      "cell_type": "code",
      "metadata": {
        "id": "umY_p4tp8Ovj",
        "colab": {
          "base_uri": "https://localhost:8080/"
        },
        "outputId": "09e511a9-5822-4a2e-f394-b710a18b0419"
      },
      "source": [
        "1"
      ],
      "execution_count": 1,
      "outputs": [
        {
          "output_type": "execute_result",
          "data": {
            "text/plain": [
              "1"
            ]
          },
          "metadata": {
            "tags": []
          },
          "execution_count": 1
        }
      ]
    },
    {
      "cell_type": "code",
      "metadata": {
        "id": "CgtelDMy48MD"
      },
      "source": [
        ""
      ],
      "execution_count": null,
      "outputs": []
    }
  ]
}