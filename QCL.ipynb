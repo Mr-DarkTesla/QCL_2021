{
  "nbformat": 4,
  "nbformat_minor": 0,
  "metadata": {
    "colab": {
      "name": "QCL.ipynb",
      "provenance": [],
      "collapsed_sections": [],
      "authorship_tag": "ABX9TyPs1bXIvwJcxrmM7IYWvPht",
      "include_colab_link": true
    },
    "kernelspec": {
      "display_name": "Python 3",
      "name": "python3"
    }
  },
  "cells": [
    {
      "cell_type": "markdown",
      "metadata": {
        "id": "view-in-github",
        "colab_type": "text"
      },
      "source": [
        "<a href=\"https://colab.research.google.com/github/MrDarkTesla/QCL_2021/blob/main/QCL.ipynb\" target=\"_parent\"><img src=\"https://colab.research.google.com/assets/colab-badge.svg\" alt=\"Open In Colab\"/></a>"
      ]
    },
    {
      "cell_type": "code",
      "metadata": {
        "id": "XvTUM00g6B_6"
      },
      "source": [
        "! pip install qiskit"
      ],
      "execution_count": null,
      "outputs": []
    },
    {
      "cell_type": "code",
      "metadata": {
        "id": "Uj-FTyu86Ilv"
      },
      "source": [
        "# Initialization\r\n",
        "import matplotlib.pyplot as plt\r\n",
        "import numpy as np\r\n",
        "\r\n",
        "# Importing Qiskit\r\n",
        "from qiskit import IBMQ, BasicAer, Aer\r\n",
        "from qiskit import QuantumCircuit, ClassicalRegister, QuantumRegister, execute\r\n",
        "\r\n",
        "# Import basic plot tools\r\n",
        "from qiskit.tools.visualization import plot_histogram\r\n",
        "\r\n",
        "# Scipy\r\n",
        "from scipy.optimize import rosen, differential_evolution\r\n",
        "\r\n",
        "# Files\r\n",
        "from google.colab import files"
      ],
      "execution_count": null,
      "outputs": []
    },
    {
      "cell_type": "code",
      "metadata": {
        "id": "20pRx19eEwmf"
      },
      "source": [
        "def f1(x):\r\n",
        "  return x ** 2 + 1\r\n",
        "\r\n",
        "\r\n",
        "def f2(x):\r\n",
        "  return x ** 2 + x ** 3\r\n",
        "\r\n",
        "\r\n",
        "def f3(x):\r\n",
        "  return np.sin(x + 1)\r\n",
        "\r\n",
        "\r\n",
        "def f4(x):\r\n",
        "  return np.exp(x) + x\r\n",
        "\r\n",
        "\r\n",
        "TEACHER = np.random.choice(np.linspace(-1, 1), 10)"
      ],
      "execution_count": null,
      "outputs": []
    },
    {
      "cell_type": "code",
      "metadata": {
        "id": "KeYR1CDK-4Ig"
      },
      "source": [
        "def U_in(x, xq, qc):\r\n",
        "  qc.rz(np.arccos(x ** 2), xq)\r\n",
        "  qc.ry(np.arcsin(x), xq)\r\n",
        "\r\n",
        "\r\n",
        "def U_out(i, j, xq, qc, theta, n):\r\n",
        "  t = (i + j * n) * 3\r\n",
        "  qc.rx(theta[t + 0], xq[i])\r\n",
        "  qc.rz(theta[t + 1], xq[i])\r\n",
        "  qc.rx(theta[t + 2], xq[i])\r\n",
        "\r\n",
        "\r\n",
        "def Hamelton(n, qc):\r\n",
        "  for i in range(n - 1):\r\n",
        "    qc.cx(i, i + 1)\r\n",
        "#  for i in range(n - 1, 0, -1):\r\n",
        "#    qc.cx(i, i - 1)\r\n",
        "\r\n",
        "\r\n",
        "def Bfunk(n, iter, count):\r\n",
        "  b = [0] * n\r\n",
        "  for k in count.keys():\r\n",
        "    for i, l in enumerate(k):\r\n",
        "      b[i] += int(l) * count[k]\r\n",
        "  for i in range(n):\r\n",
        "    b[i] /= iter\r\n",
        "  return b\r\n",
        "\r\n"
      ],
      "execution_count": null,
      "outputs": []
    },
    {
      "cell_type": "code",
      "metadata": {
        "id": "PQmnnxIK7JgX"
      },
      "source": [
        "def fi(xi, N, deapth, theta, Iterations, Omega):\r\n",
        "\r\n",
        "  xq = QuantumRegister(N, \"x\")\r\n",
        "  yc = ClassicalRegister(N, \"y\")\r\n",
        "  qc = QuantumCircuit(xq, yc)\r\n",
        "\r\n",
        "  U_in(xi, xq, qc) \r\n",
        "  for j in range(deapth):\r\n",
        "    Hamelton(N, qc)\r\n",
        "    for k in range(N):\r\n",
        "      U_out(k, j, xq, qc, theta, N)\r\n",
        "\r\n",
        "  qc.measure(xq, yc)\r\n",
        "  job = execute(qc, backend, shots=Iterations)\r\n",
        "  result = job.result()\r\n",
        "  count = result.get_counts()\r\n",
        "  B = Bfunk(N, Iterations, count)\r\n",
        "  Y = np.dot(B, Omega)\r\n",
        "  return Y"
      ],
      "execution_count": null,
      "outputs": []
    },
    {
      "cell_type": "code",
      "metadata": {
        "id": "6uRcA_XT_DyM"
      },
      "source": [
        "def Lfunk(Theta):\r\n",
        "  Omega = [1/3, 1/3, 1/3]\r\n",
        "  Iterations = 1000 \r\n",
        "  deapth = 2   \r\n",
        "  N = 3 \r\n",
        "  L = np.dot(Omega, Omega) \r\n",
        "  for t in TEACHER:\r\n",
        "    L += (f1(t) - fi(t, N, deapth, theta, Iterations, Omega)) ** 2\r\n",
        "  return L"
      ],
      "execution_count": null,
      "outputs": []
    },
    {
      "cell_type": "code",
      "metadata": {
        "id": "SQfNC661I101",
        "colab": {
          "base_uri": "https://localhost:8080/",
          "height": 1000
        },
        "outputId": "edbe65c9-397e-44c6-9c04-ac8d1967254b"
      },
      "source": [
        "theta = np.zeros(3 * 2 * 3)\r\n",
        "bounds = [(0,2 * np.pi)] * len(theta)\r\n",
        "\r\n",
        "backend = Aer.get_backend('qasm_simulator')\r\n",
        "result = differential_evolution(Lfunk, bounds)\r\n",
        "np.save(\"Result.npy\", result)\r\n",
        "files.download('Test.npy')"
      ],
      "execution_count": null,
      "outputs": [
        {
          "output_type": "error",
          "ename": "RuntimeError",
          "evalue": "ignored",
          "traceback": [
            "\u001b[0;31m---------------------------------------------------------------------------\u001b[0m",
            "\u001b[0;31mValueError\u001b[0m                                Traceback (most recent call last)",
            "\u001b[0;32m/usr/local/lib/python3.6/dist-packages/scipy/optimize/_differentialevolution.py\u001b[0m in \u001b[0;36m_calculate_population_energies\u001b[0;34m(self, population)\u001b[0m\n\u001b[1;32m    877\u001b[0m             calc_energies = list(self._mapwrapper(self.func,\n\u001b[0;32m--> 878\u001b[0;31m                                                   parameters_pop[0:nfevs]))\n\u001b[0m\u001b[1;32m    879\u001b[0m             \u001b[0menergies\u001b[0m\u001b[0;34m[\u001b[0m\u001b[0;36m0\u001b[0m\u001b[0;34m:\u001b[0m\u001b[0mnfevs\u001b[0m\u001b[0;34m]\u001b[0m \u001b[0;34m=\u001b[0m \u001b[0mcalc_energies\u001b[0m\u001b[0;34m\u001b[0m\u001b[0;34m\u001b[0m\u001b[0m\n",
            "\u001b[0;32m/usr/local/lib/python3.6/dist-packages/scipy/optimize/_differentialevolution.py\u001b[0m in \u001b[0;36m__call__\u001b[0;34m(self, x)\u001b[0m\n\u001b[1;32m   1264\u001b[0m     \u001b[0;32mdef\u001b[0m \u001b[0m__call__\u001b[0m\u001b[0;34m(\u001b[0m\u001b[0mself\u001b[0m\u001b[0;34m,\u001b[0m \u001b[0mx\u001b[0m\u001b[0;34m)\u001b[0m\u001b[0;34m:\u001b[0m\u001b[0;34m\u001b[0m\u001b[0;34m\u001b[0m\u001b[0m\n\u001b[0;32m-> 1265\u001b[0;31m         \u001b[0;32mreturn\u001b[0m \u001b[0mself\u001b[0m\u001b[0;34m.\u001b[0m\u001b[0mf\u001b[0m\u001b[0;34m(\u001b[0m\u001b[0mx\u001b[0m\u001b[0;34m,\u001b[0m \u001b[0;34m*\u001b[0m\u001b[0mself\u001b[0m\u001b[0;34m.\u001b[0m\u001b[0margs\u001b[0m\u001b[0;34m)\u001b[0m\u001b[0;34m\u001b[0m\u001b[0;34m\u001b[0m\u001b[0m\n\u001b[0m\u001b[1;32m   1266\u001b[0m \u001b[0;34m\u001b[0m\u001b[0m\n",
            "\u001b[0;32m<ipython-input-20-717880b9bf1e>\u001b[0m in \u001b[0;36mLfunk\u001b[0;34m(Theta)\u001b[0m\n\u001b[1;32m      7\u001b[0m   \u001b[0;32mfor\u001b[0m \u001b[0mt\u001b[0m \u001b[0;32min\u001b[0m \u001b[0mTEACHER\u001b[0m\u001b[0;34m:\u001b[0m\u001b[0;34m\u001b[0m\u001b[0;34m\u001b[0m\u001b[0m\n\u001b[0;32m----> 8\u001b[0;31m     \u001b[0mL\u001b[0m \u001b[0;34m+=\u001b[0m \u001b[0;34m(\u001b[0m\u001b[0mf1\u001b[0m\u001b[0;34m(\u001b[0m\u001b[0mt\u001b[0m\u001b[0;34m)\u001b[0m \u001b[0;34m-\u001b[0m \u001b[0mfi\u001b[0m\u001b[0;34m(\u001b[0m\u001b[0mt\u001b[0m\u001b[0;34m,\u001b[0m \u001b[0mN\u001b[0m\u001b[0;34m,\u001b[0m \u001b[0mdeapth\u001b[0m\u001b[0;34m,\u001b[0m \u001b[0mtheta\u001b[0m\u001b[0;34m,\u001b[0m \u001b[0mIterations\u001b[0m\u001b[0;34m,\u001b[0m \u001b[0mOmega\u001b[0m\u001b[0;34m)\u001b[0m\u001b[0;34m)\u001b[0m \u001b[0;34m**\u001b[0m \u001b[0;36m2\u001b[0m\u001b[0;34m\u001b[0m\u001b[0;34m\u001b[0m\u001b[0m\n\u001b[0m\u001b[1;32m      9\u001b[0m   \u001b[0;32mreturn\u001b[0m \u001b[0mL\u001b[0m\u001b[0;34m\u001b[0m\u001b[0;34m\u001b[0m\u001b[0m\n",
            "\u001b[0;32m<ipython-input-17-2ea764fbb833>\u001b[0m in \u001b[0;36mfi\u001b[0;34m(xi, N, deapth, theta, Iterations, Omega)\u001b[0m\n\u001b[1;32m     17\u001b[0m   \u001b[0mB\u001b[0m \u001b[0;34m=\u001b[0m \u001b[0mBfunk\u001b[0m\u001b[0;34m(\u001b[0m\u001b[0mN\u001b[0m\u001b[0;34m,\u001b[0m \u001b[0mIterations\u001b[0m\u001b[0;34m,\u001b[0m \u001b[0mcount\u001b[0m\u001b[0;34m)\u001b[0m\u001b[0;34m\u001b[0m\u001b[0;34m\u001b[0m\u001b[0m\n\u001b[0;32m---> 18\u001b[0;31m   \u001b[0mY\u001b[0m \u001b[0;34m=\u001b[0m \u001b[0mnp\u001b[0m\u001b[0;34m.\u001b[0m\u001b[0mdot\u001b[0m\u001b[0;34m(\u001b[0m\u001b[0mB\u001b[0m\u001b[0;34m,\u001b[0m \u001b[0mOmega\u001b[0m\u001b[0;34m)\u001b[0m\u001b[0;34m\u001b[0m\u001b[0;34m\u001b[0m\u001b[0m\n\u001b[0m\u001b[1;32m     19\u001b[0m   \u001b[0;32mreturn\u001b[0m \u001b[0mY\u001b[0m\u001b[0;34m\u001b[0m\u001b[0;34m\u001b[0m\u001b[0m\n",
            "\u001b[0;32m<__array_function__ internals>\u001b[0m in \u001b[0;36mdot\u001b[0;34m(*args, **kwargs)\u001b[0m\n",
            "\u001b[0;31mValueError\u001b[0m: shapes (6,) and (3,) not aligned: 6 (dim 0) != 3 (dim 0)",
            "\nDuring handling of the above exception, another exception occurred:\n",
            "\u001b[0;31mRuntimeError\u001b[0m                              Traceback (most recent call last)",
            "\u001b[0;32m<ipython-input-21-c1475dbd52e7>\u001b[0m in \u001b[0;36m<module>\u001b[0;34m()\u001b[0m\n\u001b[1;32m      3\u001b[0m \u001b[0;34m\u001b[0m\u001b[0m\n\u001b[1;32m      4\u001b[0m \u001b[0mbackend\u001b[0m \u001b[0;34m=\u001b[0m \u001b[0mAer\u001b[0m\u001b[0;34m.\u001b[0m\u001b[0mget_backend\u001b[0m\u001b[0;34m(\u001b[0m\u001b[0;34m'qasm_simulator'\u001b[0m\u001b[0;34m)\u001b[0m\u001b[0;34m\u001b[0m\u001b[0;34m\u001b[0m\u001b[0m\n\u001b[0;32m----> 5\u001b[0;31m \u001b[0mresult\u001b[0m \u001b[0;34m=\u001b[0m \u001b[0mdifferential_evolution\u001b[0m\u001b[0;34m(\u001b[0m\u001b[0mLfunk\u001b[0m\u001b[0;34m,\u001b[0m \u001b[0mbounds\u001b[0m\u001b[0;34m)\u001b[0m\u001b[0;34m\u001b[0m\u001b[0;34m\u001b[0m\u001b[0m\n\u001b[0m\u001b[1;32m      6\u001b[0m \u001b[0mnp\u001b[0m\u001b[0;34m.\u001b[0m\u001b[0msave\u001b[0m\u001b[0;34m(\u001b[0m\u001b[0;34m\"Test.npy\"\u001b[0m\u001b[0;34m,\u001b[0m \u001b[0mresult\u001b[0m\u001b[0;34m)\u001b[0m\u001b[0;34m\u001b[0m\u001b[0;34m\u001b[0m\u001b[0m\n\u001b[1;32m      7\u001b[0m \u001b[0mfiles\u001b[0m\u001b[0;34m.\u001b[0m\u001b[0mdownload\u001b[0m\u001b[0;34m(\u001b[0m\u001b[0;34m'Test.npy'\u001b[0m\u001b[0;34m)\u001b[0m\u001b[0;34m\u001b[0m\u001b[0;34m\u001b[0m\u001b[0m\n",
            "\u001b[0;32m/usr/local/lib/python3.6/dist-packages/scipy/optimize/_differentialevolution.py\u001b[0m in \u001b[0;36mdifferential_evolution\u001b[0;34m(func, bounds, args, strategy, maxiter, popsize, tol, mutation, recombination, seed, callback, disp, polish, init, atol, updating, workers, constraints)\u001b[0m\n\u001b[1;32m    304\u001b[0m                                      \u001b[0mworkers\u001b[0m\u001b[0;34m=\u001b[0m\u001b[0mworkers\u001b[0m\u001b[0;34m,\u001b[0m\u001b[0;34m\u001b[0m\u001b[0;34m\u001b[0m\u001b[0m\n\u001b[1;32m    305\u001b[0m                                      constraints=constraints) as solver:\n\u001b[0;32m--> 306\u001b[0;31m         \u001b[0mret\u001b[0m \u001b[0;34m=\u001b[0m \u001b[0msolver\u001b[0m\u001b[0;34m.\u001b[0m\u001b[0msolve\u001b[0m\u001b[0;34m(\u001b[0m\u001b[0;34m)\u001b[0m\u001b[0;34m\u001b[0m\u001b[0;34m\u001b[0m\u001b[0m\n\u001b[0m\u001b[1;32m    307\u001b[0m \u001b[0;34m\u001b[0m\u001b[0m\n\u001b[1;32m    308\u001b[0m     \u001b[0;32mreturn\u001b[0m \u001b[0mret\u001b[0m\u001b[0;34m\u001b[0m\u001b[0;34m\u001b[0m\u001b[0m\n",
            "\u001b[0;32m/usr/local/lib/python3.6/dist-packages/scipy/optimize/_differentialevolution.py\u001b[0m in \u001b[0;36msolve\u001b[0;34m(self)\u001b[0m\n\u001b[1;32m    743\u001b[0m             self.population_energies[self.feasible] = (\n\u001b[1;32m    744\u001b[0m                 self._calculate_population_energies(\n\u001b[0;32m--> 745\u001b[0;31m                     self.population[self.feasible]))\n\u001b[0m\u001b[1;32m    746\u001b[0m \u001b[0;34m\u001b[0m\u001b[0m\n\u001b[1;32m    747\u001b[0m             \u001b[0mself\u001b[0m\u001b[0;34m.\u001b[0m\u001b[0m_promote_lowest_energy\u001b[0m\u001b[0;34m(\u001b[0m\u001b[0;34m)\u001b[0m\u001b[0;34m\u001b[0m\u001b[0;34m\u001b[0m\u001b[0m\n",
            "\u001b[0;32m/usr/local/lib/python3.6/dist-packages/scipy/optimize/_differentialevolution.py\u001b[0m in \u001b[0;36m_calculate_population_energies\u001b[0;34m(self, population)\u001b[0m\n\u001b[1;32m    881\u001b[0m             \u001b[0;31m# wrong number of arguments for _mapwrapper\u001b[0m\u001b[0;34m\u001b[0m\u001b[0;34m\u001b[0m\u001b[0;34m\u001b[0m\u001b[0m\n\u001b[1;32m    882\u001b[0m             \u001b[0;31m# or wrong length returned from the mapper\u001b[0m\u001b[0;34m\u001b[0m\u001b[0;34m\u001b[0m\u001b[0;34m\u001b[0m\u001b[0m\n\u001b[0;32m--> 883\u001b[0;31m             raise RuntimeError(\"The map-like callable must be of the\"\n\u001b[0m\u001b[1;32m    884\u001b[0m                                \u001b[0;34m\" form f(func, iterable), returning a sequence\"\u001b[0m\u001b[0;34m\u001b[0m\u001b[0;34m\u001b[0m\u001b[0m\n\u001b[1;32m    885\u001b[0m                                \" of numbers the same length as 'iterable'\")\n",
            "\u001b[0;31mRuntimeError\u001b[0m: The map-like callable must be of the form f(func, iterable), returning a sequence of numbers the same length as 'iterable'"
          ]
        }
      ]
    },
    {
      "cell_type": "code",
      "metadata": {
        "id": "vMJo1HlqM6yF"
      },
      "source": [
        ""
      ],
      "execution_count": null,
      "outputs": []
    }
  ]
}